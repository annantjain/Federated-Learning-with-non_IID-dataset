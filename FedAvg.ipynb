{
 "cells": [
  {
   "cell_type": "code",
   "execution_count": 33,
   "metadata": {},
   "outputs": [],
   "source": [
    "import torch\n",
    "import torch.nn as nn\n",
    "import torch.optim as optim\n",
    "from torch.utils.data import DataLoader\n",
    "from torchvision import transforms\n",
    "from datasets import load_dataset, concatenate_datasets, Dataset\n",
    "import copy\n",
    "from tqdm import tqdm  # For tracking training progress\n"
   ]
  },
  {
   "cell_type": "code",
   "execution_count": 34,
   "metadata": {},
   "outputs": [],
   "source": [
    "import torch\n",
    "import numpy as np\n",
    "import random\n",
    "\n",
    "seed = 42\n",
    "torch.manual_seed(seed)\n",
    "np.random.seed(seed)\n",
    "random.seed(seed)"
   ]
  },
  {
   "cell_type": "code",
   "execution_count": 35,
   "metadata": {},
   "outputs": [],
   "source": [
    "# Example list of labels\n",
    "label_names = ['cat', 'dog', 'bird', 'fish', 'car', 'aircraft', 'flower', 'truck', 'parachute', 'mushroom']\n",
    "\n",
    "# Create a mapping from label names to indices\n",
    "label_to_index = {label: idx for idx, label in enumerate(label_names)}\n"
   ]
  },
  {
   "cell_type": "code",
   "execution_count": 36,
   "metadata": {},
   "outputs": [],
   "source": [
    "from torchvision import transforms\n",
    "\n",
    "transform = transforms.Compose([\n",
    "    transforms.Grayscale(num_output_channels=3), # Convert grayscale to 3 channels (RGB)\n",
    "    transforms.Resize((256, 256)),  # Resize all images to 256x256\n",
    "    transforms.ToTensor(),          # Convert images to PyTorch tensors\n",
    "    transforms.Normalize(mean=[0.485, 0.456, 0.406], std=[0.229, 0.224, 0.225])  # Normalize\n",
    "])\n"
   ]
  },
  {
   "cell_type": "code",
   "execution_count": 37,
   "metadata": {},
   "outputs": [],
   "source": [
    "from torch.utils.data import Dataset, random_split\n",
    "\n",
    "class CustomImageDataset(Dataset):\n",
    "    def __init__(self, dataset, transform=None):\n",
    "        self.dataset = dataset\n",
    "        self.transform = transform\n",
    "        self.label_to_index = {label: idx for idx, label in enumerate(label_names)}\n",
    "\n",
    "    def __len__(self):\n",
    "        return len(self.dataset)\n",
    "\n",
    "    def __getitem__(self, idx):\n",
    "        sample = self.dataset[idx]\n",
    "        image = sample['image']\n",
    "        label=sample['label']\n",
    "        label_index = self.label_to_index[label]\n",
    "        if self.transform:\n",
    "            image = self.transform(image)\n",
    "        label_tensor = torch.tensor(label_index, dtype=torch.long)\n",
    "        return image, label_tensor # Replace 'label' with actual label field if available\n",
    "\n",
    "def prepare_custom_dataloader(client_combined, batch_size=16, split_ratio=0.2, seed=42):\n",
    "    \n",
    "    torch.manual_seed(seed)\n",
    "    np.random.seed(seed)\n",
    "    random.seed(seed)\n",
    "\n",
    "    custom_dataset = CustomImageDataset(client_combined, transform=transform)\n",
    "    print(\"Custom dataset size:\", len(custom_dataset))\n",
    "    # Calculate sizes for train/test splits\n",
    "    test_size = int(split_ratio * len(custom_dataset))\n",
    "    train_size = len(custom_dataset) - test_size\n",
    "\n",
    "    # Split the dataset into train and test sets\n",
    "    train_dataset, test_dataset = random_split(custom_dataset, [train_size, test_size], generator=torch.Generator().manual_seed(seed))\n",
    "    # Create DataLoaders for train and test sets\n",
    "    train_loader = DataLoader(train_dataset, batch_size=batch_size, shuffle=True)\n",
    "    test_loader = DataLoader(test_dataset, batch_size=batch_size, shuffle=False)\n",
    "    print(\"Train loader size:\", len(train_loader))\n",
    "\n",
    "    return train_loader, test_loader\n"
   ]
  },
  {
   "cell_type": "code",
   "execution_count": 38,
   "metadata": {},
   "outputs": [],
   "source": [
    "class SimpleCNN(nn.Module):\n",
    "    def __init__(self, num_classes):\n",
    "        super(SimpleCNN, self).__init__()\n",
    "        # Define layers\n",
    "        self.conv1 = nn.Conv2d(in_channels=3, out_channels=16, kernel_size=3, stride=1, padding=1)\n",
    "        self.conv2 = nn.Conv2d(in_channels=16, out_channels=32, kernel_size=3, stride=1, padding=1)\n",
    "        self.pool = nn.MaxPool2d(kernel_size=2, stride=2, padding=0)\n",
    "        self.fc1 = nn.Linear(32 * 64 * 64, 128)  # Adjust based on output size from conv layers\n",
    "        self.fc2 = nn.Linear(128, num_classes)\n",
    "        self.dropout = nn.Dropout(0.5)\n",
    "\n",
    "    def forward(self, x):\n",
    "        x = self.pool(nn.ReLU()(self.conv1(x)))  # Conv Layer 1\n",
    "        x = self.pool((nn.ReLU()(self.conv2(x))))  # Conv Layer 2\n",
    "        x = x.view(-1, 32 * 64 * 64)  # Flatten for fully connected layer\n",
    "        x = nn.ReLU()(self.fc1(x))\n",
    "        x = self.dropout(x)\n",
    "        x = self.fc2(x) \n",
    "        return x"
   ]
  },
  {
   "cell_type": "code",
   "execution_count": 39,
   "metadata": {},
   "outputs": [],
   "source": [
    "# Function to update local model on each client\n",
    "def train_local_model(model, train_loader, epochs):\n",
    "    criterion = nn.CrossEntropyLoss()\n",
    "    optimizer = optim.Adam(model.parameters(), lr=0.001)\n",
    "    model.train()\n",
    "    \n",
    "    for epoch in range(epochs):\n",
    "        for images, labels in train_loader:\n",
    "            optimizer.zero_grad()\n",
    "            outputs = model(images)\n",
    "            loss = criterion(outputs, labels)\n",
    "            loss.backward()\n",
    "            optimizer.step()\n",
    "    return model.state_dict()  # Return the trained model's weights\n",
    "\n",
    "# Function to average weights across clients\n",
    "def federated_avg(global_model, client_weights):\n",
    "    avg_weights = copy.deepcopy(client_weights[0])\n",
    "    \n",
    "    for key in avg_weights.keys():\n",
    "        for i in range(1, len(client_weights)):\n",
    "            avg_weights[key] += client_weights[i][key]\n",
    "        avg_weights[key] = avg_weights[key] / len(client_weights)\n",
    "    \n",
    "    global_model.load_state_dict(avg_weights)\n",
    "    return global_model\n"
   ]
  },
  {
   "cell_type": "code",
   "execution_count": 40,
   "metadata": {},
   "outputs": [
    {
     "name": "stderr",
     "output_type": "stream",
     "text": [
      "Using the latest cached version of the dataset since AnnantJain/client1_federated_dataset couldn't be found on the Hugging Face Hub\n",
      "Found the latest cached dataset configuration 'default' at C:\\Users\\annan\\.cache\\huggingface\\datasets\\AnnantJain___client1_federated_dataset\\default\\0.0.0\\7b1dada41914df35469672595f2dd09230fdd9b9 (last modified on Mon Sep 30 15:22:06 2024).\n"
     ]
    }
   ],
   "source": [
    "client1_dataset = load_dataset('AnnantJain/client1_federated_dataset')\n",
    "client2_dataset = load_dataset('AnnantJain/client2_federated_dataset')\n",
    "client3_dataset = load_dataset('AnnantJain/client3_federated_dataset')\n",
    "client4_dataset = load_dataset('AnnantJain/client4_federated_dataset')\n",
    "client5_dataset = load_dataset('AnnantJain/client5_federated_dataset')"
   ]
  },
  {
   "cell_type": "code",
   "execution_count": 41,
   "metadata": {},
   "outputs": [],
   "source": [
    "# Combine clean and noisy data for each client\n",
    "client1_combined = concatenate_datasets([client1_dataset['clean'], client1_dataset['noisy']])\n",
    "client2_combined = concatenate_datasets([client2_dataset['clean'], client2_dataset['noisy']])\n",
    "client3_combined = concatenate_datasets([client3_dataset['clean'], client3_dataset['noisy']])\n",
    "client4_combined = concatenate_datasets([client4_dataset['clean'], client4_dataset['noisy']])\n",
    "client5_combined = concatenate_datasets([client5_dataset['clean'], client5_dataset['noisy']])\n"
   ]
  },
  {
   "cell_type": "code",
   "execution_count": 42,
   "metadata": {},
   "outputs": [
    {
     "name": "stdout",
     "output_type": "stream",
     "text": [
      "Custom dataset size: 3000\n",
      "Train loader size: 150\n",
      "Custom dataset size: 2296\n",
      "Train loader size: 115\n",
      "Custom dataset size: 2000\n",
      "Train loader size: 100\n",
      "Custom dataset size: 1800\n",
      "Train loader size: 90\n",
      "Custom dataset size: 3200\n",
      "Train loader size: 160\n"
     ]
    }
   ],
   "source": [
    "train_loader_1, test_loader_1 = prepare_custom_dataloader(client1_combined)\n",
    "train_loader_2, test_loader_2 = prepare_custom_dataloader(client2_combined)\n",
    "train_loader_3, test_loader_3 = prepare_custom_dataloader(client3_combined)\n",
    "train_loader_4, test_loader_4 = prepare_custom_dataloader(client4_combined)\n",
    "train_loader_5, test_loader_5 = prepare_custom_dataloader(client5_combined)"
   ]
  },
  {
   "cell_type": "code",
   "execution_count": 43,
   "metadata": {},
   "outputs": [
    {
     "name": "stdout",
     "output_type": "stream",
     "text": [
      "Sample Image Tensor Shape: torch.Size([16, 3, 256, 256])\n",
      "Sample Label Tensor: tensor([8, 5, 2, 2, 8, 8, 5, 5, 5, 2, 8, 8, 5, 5, 8, 5])\n"
     ]
    }
   ],
   "source": [
    "for images, labels in train_loader_1:\n",
    "    # Since DataLoader returns batches, you may want to just take the first batch\n",
    "    break  # Exit after the first batch\n",
    "\n",
    "# Now 'images' and 'labels' are tensors\n",
    "print(\"Sample Image Tensor Shape:\", images.shape)  # Print the shape of the image tensor\n",
    "print(\"Sample Label Tensor:\", labels)  # Print the label tensor"
   ]
  },
  {
   "cell_type": "code",
   "execution_count": 44,
   "metadata": {},
   "outputs": [],
   "source": [
    "# Initialize global model (shared across clients)\n",
    "num_classes = 10  # Adjust based on your specific case\n",
    "global_model = SimpleCNN(num_classes=num_classes)\n"
   ]
  },
  {
   "cell_type": "code",
   "execution_count": 45,
   "metadata": {},
   "outputs": [],
   "source": [
    "def evaluate_model(model, test_loader):\n",
    "    model.eval()\n",
    "    correct = 0\n",
    "    total = 0\n",
    "    with torch.no_grad():\n",
    "        for images, labels in test_loader:\n",
    "            outputs = model(images)\n",
    "            _, predicted = torch.max(outputs.data, 1)\n",
    "            total += labels.size(0)\n",
    "            correct += (predicted == labels).sum().item()\n",
    "\n",
    "    accuracy = 100 * correct / total\n",
    "    return accuracy"
   ]
  },
  {
   "cell_type": "code",
   "execution_count": 46,
   "metadata": {},
   "outputs": [
    {
     "name": "stdout",
     "output_type": "stream",
     "text": [
      "Round 1/5\n",
      "Completed round 1\n",
      "Client 1 Test Accuracy: 16.50%\n",
      "Client 2 Test Accuracy: 30.72%\n",
      "Client 3 Test Accuracy: 0.00%\n",
      "Client 4 Test Accuracy: 18.33%\n",
      "Client 5 Test Accuracy: 13.75%\n",
      "Round 2/5\n",
      "Completed round 2\n",
      "Client 1 Test Accuracy: 22.17%\n",
      "Client 2 Test Accuracy: 8.50%\n",
      "Client 3 Test Accuracy: 11.75%\n",
      "Client 4 Test Accuracy: 62.78%\n",
      "Client 5 Test Accuracy: 43.44%\n",
      "Round 3/5\n",
      "Completed round 3\n",
      "Client 1 Test Accuracy: 43.33%\n",
      "Client 2 Test Accuracy: 23.97%\n",
      "Client 3 Test Accuracy: 7.50%\n",
      "Client 4 Test Accuracy: 57.50%\n",
      "Client 5 Test Accuracy: 49.06%\n",
      "Round 4/5\n",
      "Completed round 4\n",
      "Client 1 Test Accuracy: 56.33%\n",
      "Client 2 Test Accuracy: 21.57%\n",
      "Client 3 Test Accuracy: 9.75%\n",
      "Client 4 Test Accuracy: 64.17%\n",
      "Client 5 Test Accuracy: 54.69%\n",
      "Round 5/5\n",
      "Completed round 5\n",
      "Client 1 Test Accuracy: 59.00%\n",
      "Client 2 Test Accuracy: 38.78%\n",
      "Client 3 Test Accuracy: 17.25%\n",
      "Client 4 Test Accuracy: 70.28%\n",
      "Client 5 Test Accuracy: 42.03%\n"
     ]
    }
   ],
   "source": [
    "# Number of communication rounds\n",
    "num_rounds = 5\n",
    "\n",
    "# Number of local epochs for each client\n",
    "local_epochs = 2\n",
    "\n",
    "# Perform Federated Averaging\n",
    "for round_num in range(num_rounds):\n",
    "    print(f\"Round {round_num + 1}/{num_rounds}\")\n",
    "    \n",
    "    # Collect weights from all clients\n",
    "    client_weights = []\n",
    "    \n",
    "    # Simulate client training\n",
    "    for client_id, train_loader in enumerate([train_loader_1, train_loader_2, train_loader_3, train_loader_4, train_loader_5]):\n",
    "        local_model = copy.deepcopy(global_model)  # Each client starts from the global model\n",
    "        local_weights = train_local_model(local_model, train_loader, epochs=local_epochs)  # Train locally\n",
    "        client_weights.append(local_weights)  # Store client weights\n",
    "    \n",
    "    # Federated averaging (aggregation) step\n",
    "    global_model = federated_avg(global_model, client_weights)\n",
    "    \n",
    "    print(f\"Completed round {round_num + 1}\")\n",
    "\n",
    "    # Evaluate the global model on the test data from each client\n",
    "    for client_id, test_loader in enumerate([test_loader_1, test_loader_2, test_loader_3, test_loader_4, test_loader_5]):\n",
    "        accuracy = evaluate_model(global_model, test_loader)\n",
    "        print(f\"Client {client_id + 1} Test Accuracy: {accuracy:.2f}%\")\n"
   ]
  }
 ],
 "metadata": {
  "kernelspec": {
   "display_name": "Python 3",
   "language": "python",
   "name": "python3"
  },
  "language_info": {
   "codemirror_mode": {
    "name": "ipython",
    "version": 3
   },
   "file_extension": ".py",
   "mimetype": "text/x-python",
   "name": "python",
   "nbconvert_exporter": "python",
   "pygments_lexer": "ipython3",
   "version": "3.11.5"
  }
 },
 "nbformat": 4,
 "nbformat_minor": 2
}
